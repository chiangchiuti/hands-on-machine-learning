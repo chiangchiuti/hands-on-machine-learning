{
 "cells": [
  {
   "cell_type": "code",
   "execution_count": 1,
   "metadata": {},
   "outputs": [],
   "source": [
    "import itertools\n",
    "from collections import OrderedDict \n",
    "import re\n",
    "import nltk\n",
    "from nltk.corpus import brown, gutenberg\n",
    "from nltk.probability import FreqDist\n",
    "from nltk.corpus import stopwords"
   ]
  },
  {
   "cell_type": "markdown",
   "metadata": {},
   "source": [
    "## Corpus"
   ]
  },
  {
   "cell_type": "code",
   "execution_count": 23,
   "metadata": {},
   "outputs": [
    {
     "data": {
      "text/plain": [
       "'bible-kjv.txt'"
      ]
     },
     "execution_count": 23,
     "metadata": {},
     "output_type": "execute_result"
    }
   ],
   "source": [
    "gutenberg.fileids()[3]"
   ]
  },
  {
   "cell_type": "code",
   "execution_count": 2,
   "metadata": {},
   "outputs": [],
   "source": [
    "samples  = gutenberg.sents(gutenberg.fileids()[3])\n",
    "pattern = re.compile(\"[A-Za-z]+\")\n",
    "stop_w =  set(stopwords.words('english'))\n",
    "corpus = []\n",
    "for sent in samples:\n",
    "    sent = [w.lower() for w in sent]\n",
    "    sent = [w for w in sent if w not in stop_w]\n",
    "    sent = [w.replace('\\n', ' ') for w in sent]\n",
    "    sent = [w for w in sent if pattern.fullmatch(w)]\n",
    "    if len(sent) > 5:\n",
    "        corpus.append(sent)"
   ]
  },
  {
   "cell_type": "code",
   "execution_count": 3,
   "metadata": {},
   "outputs": [],
   "source": [
    "fre_dist = FreqDist()\n",
    "for sent in corpus:\n",
    "    fre_dist.update(sent)\n",
    "fre_dist = {k : v for k, v in fre_dist.items() if v > 5}"
   ]
  },
  {
   "cell_type": "code",
   "execution_count": 4,
   "metadata": {},
   "outputs": [],
   "source": [
    "vocab_size = len(fre_dist)\n",
    "idx_to_word = {idx: word for idx,  word in enumerate(fre_dist.keys())}\n",
    "word_to_idx = {word: idx for idx, word in idx_to_word.items()}"
   ]
  },
  {
   "cell_type": "code",
   "execution_count": 5,
   "metadata": {},
   "outputs": [],
   "source": [
    "corpus_indexed = [[word_to_idx[word] for word in sent if word in word_to_idx]for sent in corpus]\n",
    "corpus_indexed = [sent for sent in corpus_indexed if len(sent) > 5]\n",
    "fre_dist_indexed = {word_to_idx[w]: f for w, f in fre_dist.items()}"
   ]
  },
  {
   "cell_type": "markdown",
   "metadata": {},
   "source": [
    "## CBOW with softmax\n",
    "$$\n",
    "P(center|context;\\theta) = P(w_O|w_I; \\theta) =  \\cfrac{\\exp(h^\\top \\text{v}^{'}_{w_{O}})}{\\sum_{w_ \\in V}\\exp(h^\\top \\text{v}'_{w_i})} \n",
    "$$"
   ]
  },
  {
   "cell_type": "code",
   "execution_count": 6,
   "metadata": {},
   "outputs": [],
   "source": [
    "import torch\n",
    "import numpy as np\n",
    "import torch.functional as F\n",
    "import torch.nn.functional as F\n",
    "import torch.nn as nn\n",
    "import torch.optim as optim\n",
    "from torch.utils.data import DataLoader\n",
    "import tqdm"
   ]
  },
  {
   "cell_type": "code",
   "execution_count": 7,
   "metadata": {},
   "outputs": [],
   "source": [
    "class CBOWDataset(torch.utils.data.Dataset):\n",
    "    def __init__(self, corpus, windows_size=2, sentence_length_threshold=5):\n",
    "        self.windows_size = windows_size\n",
    "        self.sentence_length_threshold = sentence_length_threshold\n",
    "        self.contexts, self.centers = self._generate_pairs(corpus, windows_size)\n",
    "        \n",
    "    def _generate_pairs(self, corpus, windows_size):\n",
    "        contexts = []\n",
    "        centers = []\n",
    "        \n",
    "        for sent in corpus:\n",
    "            if len(sent) < self.sentence_length_threshold:\n",
    "                continue\n",
    "            \n",
    "            for center_word_pos in range(len(sent)):\n",
    "                context = []\n",
    "                for w in range(-windows_size, windows_size + 1):\n",
    "                    context_word_pos = center_word_pos + w\n",
    "                    if(0 <= context_word_pos < len(sent) and context_word_pos != center_word_pos):\n",
    "                        context.append(sent[context_word_pos])\n",
    "                if(len(context) == 2 * self.windows_size):\n",
    "                    contexts.append(context)\n",
    "                    centers.append(sent[center_word_pos])\n",
    "        return contexts, centers\n",
    "    \n",
    "    def __len__(self):\n",
    "        return len(self.centers)\n",
    "    \n",
    "    def __getitem__(self, index):\n",
    "        return np.array(self.contexts[index]), np.array([self.centers[index]])"
   ]
  },
  {
   "cell_type": "code",
   "execution_count": 8,
   "metadata": {},
   "outputs": [],
   "source": [
    "class CBOWSoftmax(nn.Module):\n",
    "    def __init__(self, vocab_size, embedding_dim):\n",
    "        super().__init__()\n",
    "        self.syn0 = nn.Embedding(vocab_size, embedding_dim)\n",
    "        self.syn1 = nn.Linear(embedding_dim, vocab_size)\n",
    "    \n",
    "    def forward(self, context, center):\n",
    "        #  context: [b_size, windows_size]\n",
    "        #  center: [b_size, 1]\n",
    "        embds = self.syn0(context).mean(dim=1) # [b_size, embedding_dim]\n",
    "        out = self.syn1(embds)\n",
    "        \n",
    "        log_probs = F.log_softmax(out, dim=1)\n",
    "        loss = F.nll_loss(log_probs, center.view(-1), reduction='mean')\n",
    "        return loss\n",
    "        "
   ]
  },
  {
   "cell_type": "code",
   "execution_count": 9,
   "metadata": {},
   "outputs": [],
   "source": [
    "EMBEDDING_DIM = 50\n",
    "model = CBOWSoftmax(vocab_size, EMBEDDING_DIM)\n",
    "optimizer = optim.Adam(model.parameters(), lr=0.001,  weight_decay=1e-6)"
   ]
  },
  {
   "cell_type": "code",
   "execution_count": 10,
   "metadata": {},
   "outputs": [],
   "source": [
    "dataset = CBOWDataset(corpus_indexed)\n",
    "data_loader = DataLoader(dataset, batch_size=100, num_workers=0)"
   ]
  },
  {
   "cell_type": "code",
   "execution_count": 11,
   "metadata": {},
   "outputs": [
    {
     "name": "stderr",
     "output_type": "stream",
     "text": [
      "100%|██████████| 2404/2404 [01:13<00:00, 32.69it/s, loss=7.22]\n",
      "100%|██████████| 2404/2404 [00:58<00:00, 40.83it/s, loss=6.85]\n",
      "100%|██████████| 2404/2404 [01:26<00:00, 27.89it/s, loss=6.63]\n",
      "100%|██████████| 2404/2404 [00:45<00:00, 52.58it/s, loss=6.46]\n",
      "100%|██████████| 2404/2404 [00:49<00:00, 49.05it/s, loss=6.33]\n",
      "100%|██████████| 2404/2404 [01:30<00:00, 26.70it/s, loss=6.23]\n",
      "100%|██████████| 2404/2404 [01:19<00:00, 30.39it/s, loss=6.13]\n",
      "100%|██████████| 2404/2404 [00:57<00:00, 41.80it/s, loss=6.05]\n",
      "100%|██████████| 2404/2404 [01:06<00:00, 36.06it/s, loss=5.98]\n",
      "100%|██████████| 2404/2404 [00:52<00:00, 45.42it/s, loss=5.91]\n"
     ]
    }
   ],
   "source": [
    "log_interval = 100\n",
    "for epoch_i in range(10):\n",
    "    total_loss = 0\n",
    "    model.train()\n",
    "    tk0 = tqdm.tqdm(data_loader, smoothing=0, mininterval=1.0)\n",
    "    for i, (context, center) in enumerate(tk0):\n",
    "       \n",
    "        loss = model(context, center)\n",
    "\n",
    "        model.zero_grad()\n",
    "        loss.backward()\n",
    "        \n",
    "        optimizer.step()\n",
    "        total_loss += loss.item()\n",
    "        if(i + 1) % log_interval == 0:\n",
    "            tk0.set_postfix(loss = total_loss/log_interval)\n",
    "            total_loss = 0"
   ]
  },
  {
   "cell_type": "markdown",
   "metadata": {},
   "source": []
  },
  {
   "cell_type": "markdown",
   "metadata": {},
   "source": [
    "### fetch word embedding"
   ]
  },
  {
   "cell_type": "code",
   "execution_count": 15,
   "metadata": {},
   "outputs": [],
   "source": [
    "syn0 = model.syn0.weight.data\n",
    "\n",
    "w2v_embedding = syn0 \n",
    "w2v_embedding = w2v_embedding.numpy()\n",
    "l2norm = np.linalg.norm(w2v_embedding, 2, axis=1, keepdims=True)\n",
    "w2v_embedding = w2v_embedding / l2norm\n"
   ]
  },
  {
   "cell_type": "code",
   "execution_count": 17,
   "metadata": {},
   "outputs": [
    {
     "data": {
      "text/plain": [
       "(4533, 50)"
      ]
     },
     "execution_count": 17,
     "metadata": {},
     "output_type": "execute_result"
    }
   ],
   "source": [
    "w2v_embedding.shape"
   ]
  },
  {
   "cell_type": "markdown",
   "metadata": {},
   "source": [
    "# Evaluation"
   ]
  },
  {
   "cell_type": "code",
   "execution_count": 26,
   "metadata": {},
   "outputs": [],
   "source": [
    "class CosineSimilarity:\n",
    "    def __init__(self, word_embedding, idx_to_word_dict, word_to_idx_dict):\n",
    "        self.word_embedding = word_embedding # normed already\n",
    "        self.idx_to_word_dict = idx_to_word_dict\n",
    "        self.word_to_idx_dict = word_to_idx_dict\n",
    "        \n",
    "    def get_synonym(self, word, topK=10):\n",
    "        idx = self.word_to_idx_dict[word]\n",
    "        embed = self.word_embedding[idx]\n",
    "        \n",
    "        cos_similairty = w2v_embedding @ embed\n",
    "        \n",
    "        topK_index = np.argsort(-cos_similairty)[:topK]\n",
    "        pairs = []\n",
    "        for i in topK_index:\n",
    "            w = self.idx_to_word_dict[i]\n",
    "#             pairs[w] = cos_similairty[i]\n",
    "            pairs.append((w, cos_similairty[i]))\n",
    "        return pairs\n",
    "        \n",
    "    \n",
    "    "
   ]
  },
  {
   "cell_type": "code",
   "execution_count": 27,
   "metadata": {},
   "outputs": [
    {
     "data": {
      "text/plain": [
       "[('christ', 0.9999999),\n",
       " ('appearing', 0.67836726),\n",
       " ('nazareth', 0.6352371),\n",
       " ('partakers', 0.6006965),\n",
       " ('apostle', 0.59606194),\n",
       " ('repented', 0.56955314),\n",
       " ('preaching', 0.5495355),\n",
       " ('saviour', 0.5484799),\n",
       " ('remission', 0.5454745),\n",
       " ('repentance', 0.53892404)]"
      ]
     },
     "execution_count": 27,
     "metadata": {},
     "output_type": "execute_result"
    }
   ],
   "source": [
    "cosineSim = CosineSimilarity(w2v_embedding, idx_to_word, word_to_idx)\n",
    "cosineSim.get_synonym('christ')"
   ]
  },
  {
   "cell_type": "code",
   "execution_count": 22,
   "metadata": {},
   "outputs": [
    {
     "data": {
      "text/plain": [
       "[('jesus', 1.0),\n",
       " ('corinth', 0.61979365),\n",
       " ('preaching', 0.5921793),\n",
       " ('john', 0.5870693),\n",
       " ('paul', 0.5545162),\n",
       " ('apostle', 0.55235624),\n",
       " ('obedience', 0.54686654),\n",
       " ('considered', 0.54658234),\n",
       " ('lazarus', 0.54609567),\n",
       " ('gospel', 0.54567015)]"
      ]
     },
     "execution_count": 22,
     "metadata": {},
     "output_type": "execute_result"
    }
   ],
   "source": [
    "cosineSim.get_synonym('jesus')"
   ]
  },
  {
   "cell_type": "markdown",
   "metadata": {},
   "source": [
    "#### debug"
   ]
  },
  {
   "cell_type": "code",
   "execution_count": null,
   "metadata": {},
   "outputs": [],
   "source": []
  },
  {
   "cell_type": "code",
   "execution_count": 20,
   "metadata": {},
   "outputs": [
    {
     "data": {
      "text/plain": [
       "tensor([-3.2198,  1.6870, -1.1216,  0.2148,  0.5650, -1.5975,  2.0637, -0.0704,\n",
       "        -0.5054,  0.1672, -0.6360, -1.1686,  0.2833, -0.5476,  1.6006, -1.8558,\n",
       "         2.0661,  1.4087, -0.9098, -0.1002,  0.1536,  0.6631,  0.4492,  1.7913,\n",
       "        -2.0220,  1.4267,  2.7691, -2.6137,  0.7928, -1.2498,  0.2200,  0.5134,\n",
       "         0.1859,  0.9686,  0.5371,  1.5631, -0.0983, -0.8209, -0.1594, -0.2577,\n",
       "        -1.6348, -0.7915,  0.8425, -3.2552, -0.3174,  0.9666,  0.9690,  0.2145,\n",
       "        -1.5016, -1.5281])"
      ]
     },
     "execution_count": 20,
     "metadata": {},
     "output_type": "execute_result"
    }
   ],
   "source": [
    "emebdding[word_to_idx['woodhouse']]"
   ]
  },
  {
   "cell_type": "code",
   "execution_count": 12,
   "metadata": {},
   "outputs": [
    {
     "data": {
      "text/plain": [
       "(torch.Size([49, 4]), torch.Size([49, 1]))"
      ]
     },
     "execution_count": 12,
     "metadata": {},
     "output_type": "execute_result"
    }
   ],
   "source": [
    "context.shape, center.shape"
   ]
  },
  {
   "cell_type": "code",
   "execution_count": 13,
   "metadata": {},
   "outputs": [
    {
     "data": {
      "text/plain": [
       "tensor([  43,   63,  632, 2073])"
      ]
     },
     "execution_count": 13,
     "metadata": {},
     "output_type": "execute_result"
    }
   ],
   "source": [
    "context[0]"
   ]
  },
  {
   "cell_type": "code",
   "execution_count": 14,
   "metadata": {},
   "outputs": [
    {
     "data": {
      "text/plain": [
       "tensor([65])"
      ]
     },
     "execution_count": 14,
     "metadata": {},
     "output_type": "execute_result"
    }
   ],
   "source": [
    "center[0]"
   ]
  },
  {
   "cell_type": "code",
   "execution_count": null,
   "metadata": {},
   "outputs": [],
   "source": []
  }
 ],
 "metadata": {
  "kernelspec": {
   "display_name": "Python 3",
   "language": "python",
   "name": "python3"
  },
  "language_info": {
   "codemirror_mode": {
    "name": "ipython",
    "version": 3
   },
   "file_extension": ".py",
   "mimetype": "text/x-python",
   "name": "python",
   "nbconvert_exporter": "python",
   "pygments_lexer": "ipython3",
   "version": "3.6.4"
  }
 },
 "nbformat": 4,
 "nbformat_minor": 2
}
