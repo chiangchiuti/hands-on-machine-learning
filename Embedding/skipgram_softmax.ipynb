{
 "cells": [
  {
   "cell_type": "code",
   "execution_count": 1,
   "metadata": {},
   "outputs": [],
   "source": [
    "import itertools\n",
    "from collections import OrderedDict \n",
    "import re\n",
    "import nltk\n",
    "from nltk.corpus import brown, gutenberg\n",
    "from nltk.probability import FreqDist\n",
    "from nltk.corpus import stopwords"
   ]
  },
  {
   "cell_type": "markdown",
   "metadata": {},
   "source": [
    "## Corups"
   ]
  },
  {
   "cell_type": "code",
   "execution_count": 2,
   "metadata": {},
   "outputs": [],
   "source": [
    "samples  =gutenberg.sents(gutenberg.fileids()[0])\n",
    "pattern = re.compile(\"[A-Za-z]+\")\n",
    "stop_w =  set(stopwords.words('english'))\n",
    "corpus = []\n",
    "for sent in samples:\n",
    "    sent = [w.lower() for w in sent]\n",
    "    sent = [w for w in sent if w not in stop_w]\n",
    "    sent = [w.replace('\\n', ' ') for w in sent]\n",
    "    sent = [w for w in sent if pattern.fullmatch(w)]\n",
    "    if len(sent) > 5:\n",
    "        corpus.append(sent)"
   ]
  },
  {
   "cell_type": "code",
   "execution_count": 3,
   "metadata": {},
   "outputs": [],
   "source": [
    "fre_dist = FreqDist()\n",
    "for sent in corpus:\n",
    "    fre_dist.update(sent)\n",
    "fre_dist = {k : v for k, v in fre_dist.items() if v > 5}"
   ]
  },
  {
   "cell_type": "code",
   "execution_count": 4,
   "metadata": {},
   "outputs": [],
   "source": [
    "vocab_size = len(fre_dist)\n",
    "idx_to_word = {idx: word for idx,  word in enumerate(fre_dist.keys())}\n",
    "word_to_idx = {word: idx for idx, word in idx_to_word.items()}\n"
   ]
  },
  {
   "cell_type": "code",
   "execution_count": 5,
   "metadata": {},
   "outputs": [],
   "source": [
    "corpus_indexed = [[word_to_idx[word] for word in sent if word in word_to_idx]for sent in corpus]\n",
    "corpus_indexed = [sent for sent in corpus_indexed if len(sent) > 5]\n",
    "fre_dist_indexed = {word_to_idx[w]: f for w, f in fre_dist.items()}"
   ]
  },
  {
   "cell_type": "markdown",
   "metadata": {},
   "source": [
    "## skipgram with softmax"
   ]
  },
  {
   "cell_type": "code",
   "execution_count": 6,
   "metadata": {},
   "outputs": [],
   "source": [
    "import torch\n",
    "import numpy as np\n",
    "import torch.functional as F\n",
    "import torch.nn.functional as F\n",
    "import torch.nn as nn\n",
    "import torch.optim as optim\n",
    "from torch.utils.data import DataLoader\n",
    "import tqdm"
   ]
  },
  {
   "cell_type": "code",
   "execution_count": 7,
   "metadata": {},
   "outputs": [],
   "source": [
    "class Dataset(torch.utils.data.Dataset):\n",
    "    def __init__(self, corpus, window_size=2, sentence_length_threshold=5):\n",
    "        self.window_size = window_size\n",
    "        self.sentence_length_threshold = sentence_length_threshold\n",
    "        self.pairs = self.__generate_pairs(corpus, window_size)\n",
    "        \n",
    "    def __generate_pairs(self, corpus, windows_size):\n",
    "        pairs = []\n",
    "        for sentence in corpus:\n",
    "            if len(sentence) < self.sentence_length_threshold:\n",
    "                continue\n",
    "            for center_word_pos in range(len(sentence)):\n",
    "                for shift in range(-windows_size, windows_size + 1):\n",
    "                    context_word_pos = center_word_pos + shift\n",
    "                    \n",
    "                    if (0 <= context_word_pos < len(sentence)) and context_word_pos != center_word_pos:\n",
    "                        pairs.append((sentence[center_word_pos], sentence[context_word_pos]))\n",
    "        return pairs\n",
    "\n",
    "    def __len__(self):\n",
    "        return len(self.pairs)\n",
    "    \n",
    "    def __getitem__(self, index):\n",
    "        return np.array([self.pairs[index][0]]), np.array([self.pairs[index][1]])"
   ]
  },
  {
   "cell_type": "code",
   "execution_count": 8,
   "metadata": {},
   "outputs": [],
   "source": [
    "class SkipgramSoftmax(nn.Module):\n",
    "    def __init__(self, vocab_size, embedding_dim):\n",
    "        super().__init__()\n",
    "        self.vocab_size = vocab_size\n",
    "        self.embedding_dim = embedding_dim\n",
    "        self.syn0 = nn.Embedding(vocab_size, embedding_dim)  # |V| x |K|\n",
    "        self.syn1 = nn.Linear(embedding_dim, vocab_size)  # |K| x |V|\n",
    "\n",
    "    def forward(self, center, context):\n",
    "        # center: [b_size, 1]\n",
    "        # context: [b_size, 1]\n",
    "        embds = self.syn0(center.view(-1))\n",
    "        out = self.syn1(embds)\n",
    "        log_probs = F.log_softmax(out, dim=1)\n",
    "        loss = F.nll_loss(log_probs, context.view(-1), reduction='mean')\n",
    "        return loss"
   ]
  },
  {
   "cell_type": "code",
   "execution_count": 9,
   "metadata": {},
   "outputs": [],
   "source": [
    "EMBEDDING_DIM = 50\n",
    "model = SkipgramSoftmax(vocab_size, EMBEDDING_DIM)\n",
    "optimizer = optim.Adam(model.parameters(), lr=0.001,  weight_decay=1e-6)\n"
   ]
  },
  {
   "cell_type": "code",
   "execution_count": 10,
   "metadata": {},
   "outputs": [],
   "source": [
    "dataset = Dataset(corpus_indexed)\n",
    "data_loader = DataLoader(dataset, batch_size=100, num_workers=0)"
   ]
  },
  {
   "cell_type": "code",
   "execution_count": 11,
   "metadata": {},
   "outputs": [
    {
     "name": "stderr",
     "output_type": "stream",
     "text": [
      "100%|██████████| 1845/1845 [00:13<00:00, 141.67it/s, loss=6.9]\n",
      "100%|██████████| 1845/1845 [00:12<00:00, 146.03it/s, loss=6.61]\n",
      "100%|██████████| 1845/1845 [00:12<00:00, 143.85it/s, loss=6.5]\n",
      "100%|██████████| 1845/1845 [00:12<00:00, 145.09it/s, loss=6.44]\n",
      "100%|██████████| 1845/1845 [00:12<00:00, 144.16it/s, loss=6.39]\n",
      "100%|██████████| 1845/1845 [00:12<00:00, 145.40it/s, loss=6.36]\n",
      "100%|██████████| 1845/1845 [00:12<00:00, 142.82it/s, loss=6.33]\n",
      "100%|██████████| 1845/1845 [00:12<00:00, 145.18it/s, loss=6.31]\n",
      "100%|██████████| 1845/1845 [00:12<00:00, 146.23it/s, loss=6.28]\n",
      "100%|██████████| 1845/1845 [00:12<00:00, 145.52it/s, loss=6.26]\n",
      "100%|██████████| 1845/1845 [00:13<00:00, 141.20it/s, loss=6.24]\n",
      "100%|██████████| 1845/1845 [00:15<00:00, 121.88it/s, loss=6.22]\n",
      "100%|██████████| 1845/1845 [00:15<00:00, 115.82it/s, loss=6.2]\n",
      "100%|██████████| 1845/1845 [00:15<00:00, 115.33it/s, loss=6.19]\n",
      "100%|██████████| 1845/1845 [00:14<00:00, 130.63it/s, loss=6.17]\n",
      "100%|██████████| 1845/1845 [00:13<00:00, 138.14it/s, loss=6.16]\n",
      "100%|██████████| 1845/1845 [00:15<00:00, 116.86it/s, loss=6.14]\n",
      "100%|██████████| 1845/1845 [00:13<00:00, 131.92it/s, loss=6.13]\n",
      "100%|██████████| 1845/1845 [00:14<00:00, 126.81it/s, loss=6.11]\n",
      "100%|██████████| 1845/1845 [00:14<00:00, 125.70it/s, loss=6.1]\n"
     ]
    }
   ],
   "source": [
    "log_interval = 100\n",
    "for epoch_i in range(10):\n",
    "    total_loss = 0\n",
    "    model.train()\n",
    "    tk0 = tqdm.tqdm(data_loader, smoothing=0, mininterval=1.0)\n",
    "    for i, (center, context) in enumerate(tk0):\n",
    "       \n",
    "        loss = model(center, context)\n",
    "\n",
    "        model.zero_grad()\n",
    "        loss.backward()\n",
    "        \n",
    "        optimizer.step()\n",
    "        total_loss += loss.item()\n",
    "        if(i + 1) % log_interval == 0:\n",
    "            tk0.set_postfix(loss = total_loss/log_interval)\n",
    "            total_loss = 0"
   ]
  },
  {
   "cell_type": "markdown",
   "metadata": {},
   "source": [
    "### syn0 and syn1 emebdding"
   ]
  },
  {
   "cell_type": "code",
   "execution_count": 18,
   "metadata": {},
   "outputs": [
    {
     "data": {
      "text/plain": [
       "torch.Size([1749, 50])"
      ]
     },
     "execution_count": 18,
     "metadata": {},
     "output_type": "execute_result"
    }
   ],
   "source": [
    "emebdding1 = model.syn0.weight.data\n",
    "emebdding1.shape"
   ]
  },
  {
   "cell_type": "code",
   "execution_count": 19,
   "metadata": {},
   "outputs": [
    {
     "data": {
      "text/plain": [
       "torch.Size([1749, 50])"
      ]
     },
     "execution_count": 19,
     "metadata": {},
     "output_type": "execute_result"
    }
   ],
   "source": [
    "emebdding2 = model.syn1.weight.data\n",
    "emebdding2.shape"
   ]
  },
  {
   "cell_type": "markdown",
   "metadata": {},
   "source": [
    "#### debug"
   ]
  },
  {
   "cell_type": "code",
   "execution_count": 60,
   "metadata": {},
   "outputs": [],
   "source": [
    "model = SkipgramSoftmax(vocab_size, EMBEDDING_DIM)"
   ]
  },
  {
   "cell_type": "code",
   "execution_count": 61,
   "metadata": {},
   "outputs": [],
   "source": [
    "dl = iter(data_loader)\n",
    "center, context = next(dl)"
   ]
  },
  {
   "cell_type": "code",
   "execution_count": 63,
   "metadata": {},
   "outputs": [
    {
     "data": {
      "text/plain": [
       "(torch.Size([100]), torch.Size([100]))"
      ]
     },
     "execution_count": 63,
     "metadata": {},
     "output_type": "execute_result"
    }
   ],
   "source": [
    "center = center.view(-1)\n",
    "context = context.view(-1)\n",
    "center.shape, context.shape"
   ]
  }
 ],
 "metadata": {
  "kernelspec": {
   "display_name": "Python 3",
   "language": "python",
   "name": "python3"
  },
  "language_info": {
   "codemirror_mode": {
    "name": "ipython",
    "version": 3
   },
   "file_extension": ".py",
   "mimetype": "text/x-python",
   "name": "python",
   "nbconvert_exporter": "python",
   "pygments_lexer": "ipython3",
   "version": "3.6.4"
  }
 },
 "nbformat": 4,
 "nbformat_minor": 2
}
