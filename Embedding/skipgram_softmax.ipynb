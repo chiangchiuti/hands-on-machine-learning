{
 "cells": [
  {
   "cell_type": "code",
   "execution_count": 1,
   "metadata": {},
   "outputs": [],
   "source": [
    "import itertools\n",
    "from collections import OrderedDict \n",
    "import re\n",
    "import nltk\n",
    "from nltk.corpus import brown, gutenberg\n",
    "from nltk.probability import FreqDist\n",
    "from nltk.corpus import stopwords"
   ]
  },
  {
   "cell_type": "markdown",
   "metadata": {},
   "source": [
    "## Corups"
   ]
  },
  {
   "cell_type": "code",
   "execution_count": 2,
   "metadata": {},
   "outputs": [
    {
     "data": {
      "text/plain": [
       "'bible-kjv.txt'"
      ]
     },
     "execution_count": 2,
     "metadata": {},
     "output_type": "execute_result"
    }
   ],
   "source": [
    "gutenberg.fileids()[3]"
   ]
  },
  {
   "cell_type": "code",
   "execution_count": 4,
   "metadata": {},
   "outputs": [],
   "source": [
    "samples  =gutenberg.sents(gutenberg.fileids()[3])\n",
    "pattern = re.compile(\"[A-Za-z]+\")\n",
    "stop_w =  set(stopwords.words('english'))\n",
    "corpus = []\n",
    "for sent in samples:\n",
    "    sent = [w.lower() for w in sent]\n",
    "    sent = [w for w in sent if w not in stop_w]\n",
    "    sent = [w.replace('\\n', ' ') for w in sent]\n",
    "    sent = [w for w in sent if pattern.fullmatch(w)]\n",
    "    if len(sent) > 5:\n",
    "        corpus.append(sent)"
   ]
  },
  {
   "cell_type": "code",
   "execution_count": 5,
   "metadata": {},
   "outputs": [],
   "source": [
    "fre_dist = FreqDist()\n",
    "for sent in corpus:\n",
    "    fre_dist.update(sent)\n",
    "fre_dist = {k : v for k, v in fre_dist.items() if v > 5}"
   ]
  },
  {
   "cell_type": "code",
   "execution_count": 6,
   "metadata": {},
   "outputs": [],
   "source": [
    "vocab_size = len(fre_dist)\n",
    "idx_to_word = {idx: word for idx,  word in enumerate(fre_dist.keys())}\n",
    "word_to_idx = {word: idx for idx, word in idx_to_word.items()}\n"
   ]
  },
  {
   "cell_type": "code",
   "execution_count": 7,
   "metadata": {},
   "outputs": [],
   "source": [
    "corpus_indexed = [[word_to_idx[word] for word in sent if word in word_to_idx]for sent in corpus]\n",
    "corpus_indexed = [sent for sent in corpus_indexed if len(sent) > 5]\n",
    "# fre_dist_indexed = {word_to_idx[w]: f for w, f in fre_dist.items()}"
   ]
  },
  {
   "cell_type": "markdown",
   "metadata": {},
   "source": [
    "## skipgram with softmax\n",
    "$$\n",
    "P(context|center;\\theta) = P(w_{O,1}, w_{O,2},...,w_{O,C}|w_I) = \\prod^C_{c=1 }\\cfrac{\\exp(h^\\top \\text{v}'_{w_{O,c}})}{\\sum_{w_i \\in V} \\exp(h^\\top \\text{v}'_{w_i})}\n",
    "$$"
   ]
  },
  {
   "cell_type": "code",
   "execution_count": 8,
   "metadata": {},
   "outputs": [],
   "source": [
    "import torch\n",
    "import numpy as np\n",
    "import torch.functional as F\n",
    "import torch.nn.functional as F\n",
    "import torch.nn as nn\n",
    "import torch.optim as optim\n",
    "from torch.utils.data import DataLoader\n",
    "import tqdm"
   ]
  },
  {
   "cell_type": "code",
   "execution_count": 9,
   "metadata": {},
   "outputs": [],
   "source": [
    "class Dataset(torch.utils.data.Dataset):\n",
    "    def __init__(self, corpus, window_size=2, sentence_length_threshold=5):\n",
    "        self.window_size = window_size\n",
    "        self.sentence_length_threshold = sentence_length_threshold\n",
    "        self.pairs = self.__generate_pairs(corpus, window_size)\n",
    "        \n",
    "    def __generate_pairs(self, corpus, windows_size):\n",
    "        pairs = []\n",
    "        for sentence in corpus:\n",
    "            if len(sentence) < self.sentence_length_threshold:\n",
    "                continue\n",
    "            for center_word_pos in range(len(sentence)):\n",
    "                for shift in range(-windows_size, windows_size + 1):\n",
    "                    context_word_pos = center_word_pos + shift\n",
    "                    \n",
    "                    if (0 <= context_word_pos < len(sentence)) and context_word_pos != center_word_pos:\n",
    "                        pairs.append((sentence[center_word_pos], sentence[context_word_pos]))\n",
    "        return pairs\n",
    "\n",
    "    def __len__(self):\n",
    "        return len(self.pairs)\n",
    "    \n",
    "    def __getitem__(self, index):\n",
    "        return np.array([self.pairs[index][0]]), np.array([self.pairs[index][1]])"
   ]
  },
  {
   "cell_type": "code",
   "execution_count": 10,
   "metadata": {},
   "outputs": [],
   "source": [
    "class SkipgramSoftmax(nn.Module):\n",
    "    def __init__(self, vocab_size, embedding_dim):\n",
    "        super().__init__()\n",
    "        self.vocab_size = vocab_size\n",
    "        self.embedding_dim = embedding_dim\n",
    "        self.syn0 = nn.Embedding(vocab_size, embedding_dim)  # |V| x |K|\n",
    "        self.syn1 = nn.Linear(embedding_dim, vocab_size)  # |K| x |V|\n",
    "\n",
    "    def forward(self, center, context):\n",
    "        # center: [b_size, 1]\n",
    "        # context: [b_size, 1]\n",
    "        embds = self.syn0(center.view(-1))\n",
    "        out = self.syn1(embds)\n",
    "        log_probs = F.log_softmax(out, dim=1)\n",
    "        loss = F.nll_loss(log_probs, context.view(-1), reduction='mean')\n",
    "        return loss"
   ]
  },
  {
   "cell_type": "code",
   "execution_count": 11,
   "metadata": {},
   "outputs": [],
   "source": [
    "EMBEDDING_DIM = 100\n",
    "model = SkipgramSoftmax(vocab_size, EMBEDDING_DIM)\n",
    "optimizer = optim.Adam(model.parameters(), lr=0.001,  weight_decay=1e-6)\n"
   ]
  },
  {
   "cell_type": "code",
   "execution_count": 12,
   "metadata": {},
   "outputs": [],
   "source": [
    "dataset = Dataset(corpus_indexed)\n",
    "data_loader = DataLoader(dataset, batch_size=500, num_workers=0)"
   ]
  },
  {
   "cell_type": "code",
   "execution_count": 13,
   "metadata": {},
   "outputs": [
    {
     "name": "stderr",
     "output_type": "stream",
     "text": [
      "100%|██████████| 2418/2418 [03:08<00:00, 12.81it/s, loss=7.11]\n",
      "100%|██████████| 2418/2418 [02:49<00:00, 14.25it/s, loss=6.86]\n",
      "100%|██████████| 2418/2418 [02:51<00:00, 14.14it/s, loss=6.75]\n",
      "100%|██████████| 2418/2418 [02:41<00:00, 14.93it/s, loss=6.68]\n",
      "100%|██████████| 2418/2418 [03:21<00:00, 12.00it/s, loss=6.63]\n",
      "100%|██████████| 2418/2418 [02:55<00:00, 13.78it/s, loss=6.58]\n",
      "100%|██████████| 2418/2418 [03:03<00:00, 13.17it/s, loss=6.55]\n",
      "100%|██████████| 2418/2418 [02:50<00:00, 14.21it/s, loss=6.52]\n",
      "100%|██████████| 2418/2418 [02:36<00:00, 15.45it/s, loss=6.49]\n",
      "100%|██████████| 2418/2418 [02:30<00:00, 16.11it/s, loss=6.47]\n"
     ]
    }
   ],
   "source": [
    "log_interval = 100\n",
    "for epoch_i in range(5):\n",
    "    total_loss = 0\n",
    "    model.train()\n",
    "    tk0 = tqdm.tqdm(data_loader, smoothing=0, mininterval=1.0)\n",
    "    for i, (center, context) in enumerate(tk0):\n",
    "       \n",
    "        loss = model(center, context)\n",
    "\n",
    "        model.zero_grad()\n",
    "        loss.backward()\n",
    "        \n",
    "        optimizer.step()\n",
    "        total_loss += loss.item()\n",
    "        if(i + 1) % log_interval == 0:\n",
    "            tk0.set_postfix(loss = total_loss/log_interval)\n",
    "            total_loss = 0"
   ]
  },
  {
   "cell_type": "markdown",
   "metadata": {},
   "source": [
    "### fetch word embedding"
   ]
  },
  {
   "cell_type": "code",
   "execution_count": 15,
   "metadata": {},
   "outputs": [],
   "source": [
    "syn0 = model.syn0.weight.data\n",
    "syn1 = model.syn1.weight.data\n",
    "\n",
    "\n",
    "w2v_embedding = (syn0 + syn1) / 2\n",
    "w2v_embedding = w2v_embedding.numpy()\n",
    "l2norm = np.linalg.norm(w2v_embedding, 2, axis=1, keepdims=True)\n",
    "w2v_embedding = w2v_embedding / l2norm\n"
   ]
  },
  {
   "cell_type": "markdown",
   "metadata": {},
   "source": [
    "# Evaluation"
   ]
  },
  {
   "cell_type": "code",
   "execution_count": 18,
   "metadata": {},
   "outputs": [],
   "source": [
    "class CosineSimilarity:\n",
    "    def __init__(self, word_embedding, idx_to_word_dict, word_to_idx_dict):\n",
    "        self.word_embedding = word_embedding # normed already\n",
    "        self.idx_to_word_dict = idx_to_word_dict\n",
    "        self.word_to_idx_dict = word_to_idx_dict\n",
    "        \n",
    "    def get_synonym(self, word, topK=10):\n",
    "        idx = self.word_to_idx_dict[word]\n",
    "        embed = self.word_embedding[idx]\n",
    "        \n",
    "        cos_similairty = w2v_embedding @ embed\n",
    "        \n",
    "        topK_index = np.argsort(-cos_similairty)[:topK]\n",
    "        pairs = []\n",
    "        for i in topK_index:\n",
    "            w = self.idx_to_word_dict[i]\n",
    "#             pairs[w] = cos_similairty[i]\n",
    "            pairs.append((w, cos_similairty[i]))\n",
    "        return pairs\n",
    "        \n",
    "    \n",
    "    "
   ]
  },
  {
   "cell_type": "code",
   "execution_count": 19,
   "metadata": {},
   "outputs": [
    {
     "data": {
      "text/plain": [
       "[('christ', 0.9999999),\n",
       " ('gospel', 0.6221024),\n",
       " ('jesus', 0.60206234),\n",
       " ('resurrection', 0.5797884),\n",
       " ('sufferings', 0.5712591),\n",
       " ('faith', 0.5694477),\n",
       " ('appearing', 0.5664267),\n",
       " ('apostle', 0.5652396),\n",
       " ('justified', 0.5442045),\n",
       " ('timothy', 0.53993124)]"
      ]
     },
     "execution_count": 19,
     "metadata": {},
     "output_type": "execute_result"
    }
   ],
   "source": [
    "cosineSim = CosineSimilarity(w2v_embedding, idx_to_word, word_to_idx)\n",
    "cosineSim.get_synonym('christ')"
   ]
  },
  {
   "cell_type": "code",
   "execution_count": 20,
   "metadata": {},
   "outputs": [
    {
     "data": {
      "text/plain": [
       "[('jesus', 1.0),\n",
       " ('christ', 0.60206234),\n",
       " ('answering', 0.5809975),\n",
       " ('crucified', 0.5506017),\n",
       " ('nazareth', 0.54799545),\n",
       " ('peter', 0.54017067),\n",
       " ('apostle', 0.5311042),\n",
       " ('disciples', 0.5209755),\n",
       " ('baptized', 0.511466),\n",
       " ('pilate', 0.502664)]"
      ]
     },
     "execution_count": 20,
     "metadata": {},
     "output_type": "execute_result"
    }
   ],
   "source": [
    "cosineSim.get_synonym('jesus')"
   ]
  },
  {
   "cell_type": "markdown",
   "metadata": {},
   "source": [
    "#### debug"
   ]
  },
  {
   "cell_type": "code",
   "execution_count": 60,
   "metadata": {},
   "outputs": [],
   "source": [
    "model = SkipgramSoftmax(vocab_size, EMBEDDING_DIM)"
   ]
  },
  {
   "cell_type": "code",
   "execution_count": 21,
   "metadata": {},
   "outputs": [],
   "source": [
    "dl = iter(data_loader)\n",
    "center, context = next(dl)"
   ]
  },
  {
   "cell_type": "code",
   "execution_count": 22,
   "metadata": {},
   "outputs": [
    {
     "data": {
      "text/plain": [
       "(torch.Size([500, 1]), torch.Size([500, 1]))"
      ]
     },
     "execution_count": 22,
     "metadata": {},
     "output_type": "execute_result"
    }
   ],
   "source": [
    "center.shape, context.shape"
   ]
  },
  {
   "cell_type": "code",
   "execution_count": 25,
   "metadata": {},
   "outputs": [
    {
     "data": {
      "text/plain": [
       "(tensor([3]), tensor([2]))"
      ]
     },
     "execution_count": 25,
     "metadata": {},
     "output_type": "execute_result"
    }
   ],
   "source": [
    "center[10], context[10]"
   ]
  },
  {
   "cell_type": "code",
   "execution_count": null,
   "metadata": {},
   "outputs": [],
   "source": []
  }
 ],
 "metadata": {
  "kernelspec": {
   "display_name": "Python 3",
   "language": "python",
   "name": "python3"
  },
  "language_info": {
   "codemirror_mode": {
    "name": "ipython",
    "version": 3
   },
   "file_extension": ".py",
   "mimetype": "text/x-python",
   "name": "python",
   "nbconvert_exporter": "python",
   "pygments_lexer": "ipython3",
   "version": "3.6.4"
  }
 },
 "nbformat": 4,
 "nbformat_minor": 2
}
